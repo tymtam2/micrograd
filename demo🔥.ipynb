{
 "cells": [
  {
   "cell_type": "code",
   "execution_count": 24,
   "metadata": {
    "vscode": {
     "languageId": "plaintext"
    }
   },
   "outputs": [],
   "source": [
    "# This is equivalent to Python's `import numpy as np`\n",
    "let np = Python.import_module(\"numpy\")"
   ]
  },
  {
   "cell_type": "code",
   "execution_count": 26,
   "metadata": {
    "vscode": {
     "languageId": "plaintext"
    }
   },
   "outputs": [],
   "source": [
    "np.random.seed(1337)"
   ]
  },
  {
   "cell_type": "code",
   "execution_count": 28,
   "metadata": {
    "vscode": {
     "languageId": "plaintext"
    }
   },
   "outputs": [
    {
     "name": "stdout",
     "output_type": "stream",
     "text": [
      "['/opt/conda/lib/python3.8/site-packages', '/opt/conda/lib/python38.zip', '/opt/conda/lib/python3.8', '/opt/conda/lib/python3.8/lib-dynload', '/.modular/KGEN/utils/jupyter-mojo/extension', '/.modular/Support/python', '/home/jovyan/micrograd.🔥']\n"
     ]
    }
   ],
   "source": [
    "%%python\n",
    "import os\n",
    "import sys\n",
    "sys.path.append(os.getcwd())\n",
    "print(sys.path)"
   ]
  },
  {
   "cell_type": "code",
   "execution_count": 30,
   "metadata": {
    "vscode": {
     "languageId": "plaintext"
    }
   },
   "outputs": [],
   "source": [
    "let sklearn = Python.import_module(\"utils.sklearn\")\n",
    "\n",
    "let r = sklearn.get_moons(1337)\n",
    "\n",
    "let X = r[0]\n",
    "let y = r[1]\n",
    "\n",
    "y = y*2 - 1 # make y be -1 or 1\n",
    "\n"
   ]
  },
  {
   "cell_type": "code",
   "execution_count": 31,
   "metadata": {
    "vscode": {
     "languageId": "plaintext"
    }
   },
   "outputs": [
    {
     "data": {
      "image/png": "[encoded data removed]"
     },
     "metadata": {},
     "output_type": "display_data"
    },
    {
     "name": "stdout",
     "output_type": "stream",
     "text": [
      "\n"
     ]
    }
   ],
   "source": [
    "let plt = Python.import_module(\"utils.pyplot\")\n",
    "plt.show(X, y)"
   ]
  },
  {
   "cell_type": "code",
   "execution_count": 4,
   "metadata": {
    "vscode": {
     "languageId": "plaintext"
    }
   },
   "outputs": [],
   "source": [
    "# real mojo starts here\n",
    "from Vector import DynamicVector\n",
    "\n",
    "@value\n",
    "struct Value:\n",
    "    \"\"\" stores a single scalar value and its gradient \"\"\"\n",
    "\n",
    "    var data: Float32 # TODO\n",
    "    var grad: Int\n",
    "    var _backward: def() capturing # Mojo function type\n",
    "    var _prev: DynamicVector[NoneType] # https://docs.modular.com/mojo/roadmap.html#recursive-structs-dont-work  \n",
    "    var _op: StringLiteral\n",
    "\n",
    "    def __init__(inout self: Self, data: Float32, _children: DynamicVector[NoneType], _op: StringLiteral):  #  _children=(), _op=''):\n",
    "        self.data = data\n",
    "        self.grad = 0\n",
    "        # internal variables used for autograd graph construction\n",
    "        def f(): return None\n",
    "        self._backward = f\n",
    "        self._prev = _children #  #  self._prev = Set(_children) # error: Expression [3]:21:22: use of unknown declaration 'Set'\n",
    "        self._op = _op # the op that produced this node, for graphviz / debugging / etc\n",
    "\n",
    "    \n",
    "\n"
   ]
  },
  {
   "cell_type": "code",
   "execution_count": 8,
   "metadata": {
    "vscode": {
     "languageId": "plaintext"
    }
   },
   "outputs": [
    {
     "name": "stderr",
     "output_type": "stream",
     "text": [
      "error: \u001b[0;1;31m\u001b[1mExpression [8]:9:33: \u001b[0m\u001b[1m'object' does not implement the '__iter__' method\n",
      "\u001b[0m        for p in self.parameters():\n",
      "\u001b[0;1;32m                                ^\n",
      "\u001b[0m\u001b[0m\n",
      "error: \u001b[0;1;31m\u001b[1mExpression [8]:10:13: \u001b[0m\u001b[1muse of unknown declaration 'p'\n",
      "\u001b[0m            p.grad = 0\n",
      "\u001b[0;1;32m            ^\n",
      "\u001b[0m\u001b[0m\n"
     ]
    }
   ],
   "source": [
    "# import random\n",
    "# from micrograd.engine import Value\n",
    "\n",
    "@value\n",
    "struct Module:\n",
    "\n",
    "    def zero_grad(self):\n",
    "        for p in self.parameters():\n",
    "            p.grad = 0\n",
    "\n",
    "    def parameters(self): DynamicVector[NoneType]:\n",
    "        return []\n"
   ]
  }
 ],
 "metadata": {
  "kernelspec": {
   "display_name": "Mojo",
   "language": "mojo",
   "name": "mojo-jupyter-kernel"
  },
  "language_info": {
   "codemirror_mode": {
    "name": "mojo"
   },
   "file_extension": ".mojo",
   "mimetype": "text/x-mojo",
   "name": "mojo"
  }
 },
 "nbformat": 4,
 "nbformat_minor": 2
}
